{
 "cells": [
  {
   "cell_type": "code",
   "execution_count": null,
   "metadata": {},
   "outputs": [],
   "source": [
    "import torch\n",
    "import numpy as np\n",
    "from torch.utils.data import TensorDataset, DataLoader, ConcatDataset"
   ]
  },
  {
   "cell_type": "markdown",
   "metadata": {},
   "source": [
    "# Generate Trainingset (Simulation 1~300)"
   ]
  },
  {
   "cell_type": "code",
   "execution_count": null,
   "metadata": {},
   "outputs": [],
   "source": [
    "# Training set\n",
    "steps = 10\n",
    "stride = 1\n",
    "for i in range(1, 301):\n",
    "    raw_np = np.load('../data/npy/sequence_{}.npy'.format(i))\n",
    "    raw_tensor = torch.Tensor(raw_np)\n",
    "    f = {}\n",
    "    f[steps-1] = raw_tensor[steps-1:]\n",
    "    for ii in range(steps-1):\n",
    "        f[ii] = raw_tensor[ii*stride:-(steps-ii-1)*stride]\n",
    "    tmp_dataset = TensorDataset(f[0],f[1],f[2],f[3],f[4],f[5],f[6],f[7],f[8],f[9])\n",
    "    if i == 1:\n",
    "        dataset = tmp_dataset\n",
    "    else:\n",
    "        dataset = ConcatDataset([dataset, tmp_dataset])\n",
    "torch.save(dataset, \"../data/dataset_10steps.pt\")\n",
    "print(\"Trainingset is saved!\")"
   ]
  },
  {
   "cell_type": "markdown",
   "metadata": {},
   "source": [
    "# Generate Testset (Simulation 301~350)"
   ]
  },
  {
   "cell_type": "code",
   "execution_count": null,
   "metadata": {},
   "outputs": [],
   "source": [
    "# Test set\n",
    "steps = 10\n",
    "stride = 1\n",
    "for i in range(301, 371):\n",
    "    raw_np = np.load('../data/npy/sequence_{}.npy'.format(i))\n",
    "    raw_tensor = torch.Tensor(raw_np)\n",
    "    f = {}\n",
    "    f[steps-1] = raw_tensor[steps-1:]\n",
    "    for ii in range(steps-1):\n",
    "        f[ii] = raw_tensor[ii*stride:-(steps-ii-1)*stride]\n",
    "    tmp_dataset = TensorDataset(f[0],f[1],f[2],f[3],f[4],f[5],f[6],f[7],f[8],f[9])\n",
    "    if i == 301:\n",
    "        dataset = tmp_dataset\n",
    "    else:\n",
    "        dataset = ConcatDataset([dataset, tmp_dataset])\n",
    "torch.save(dataset, \"../data/testset_10steps_2.pt\")\n",
    "print(\"Testset is saved!\")"
   ]
  }
 ],
 "metadata": {
  "interpreter": {
   "hash": "2c7630e42c07fc97b7bdd3b961f12b9f6f566b7756c390ffd7b074a3a9c10baf"
  },
  "kernelspec": {
   "display_name": "Python 3.9.11 ('torch')",
   "language": "python",
   "name": "python3"
  },
  "language_info": {
   "codemirror_mode": {
    "name": "ipython",
    "version": 3
   },
   "file_extension": ".py",
   "mimetype": "text/x-python",
   "name": "python",
   "nbconvert_exporter": "python",
   "pygments_lexer": "ipython3",
   "version": "3.9.11"
  },
  "orig_nbformat": 4
 },
 "nbformat": 4,
 "nbformat_minor": 2
}
